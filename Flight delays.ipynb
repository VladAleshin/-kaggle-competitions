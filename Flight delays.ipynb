{
 "cells": [
  {
   "cell_type": "markdown",
   "metadata": {},
   "source": [
    "###  https://www.kaggle.com/c/flight-delays-fall-2018\n",
    "#### ROC AUC score = 0.74154\n",
    "\n"
   ]
  },
  {
   "cell_type": "code",
   "execution_count": 9,
   "metadata": {},
   "outputs": [],
   "source": [
    "import numpy as np\n",
    "import pandas as pd\n",
    "import os\n",
    "from sklearn.model_selection import GridSearchCV, StratifiedKFold\n",
    "from catboost import CatBoostClassifier\n",
    "import warnings\n",
    "\n",
    "warnings.filterwarnings(\"ignore\")\n",
    "\n",
    "os.chdir('C://Kaggle//Flight_delays//')\n",
    "#os.chdir('./') #path to data\n",
    "SEED = 17\n",
    "TRAIN_LEN = 10**5\n",
    "skf = StratifiedKFold(n_splits=5, shuffle=True, random_state=SEED)\n"
   ]
  },
  {
   "cell_type": "code",
   "execution_count": 1,
   "metadata": {},
   "outputs": [],
   "source": [
    "def read_prepare_data():\n",
    "    train_df = pd.read_csv('flight_delays_train.csv')\n",
    "    test_df = pd.read_csv('flight_delays_test.csv')\n",
    "    y = train_df.dep_delayed_15min.map({'Y': 1, 'N': 0}).values\n",
    "    train_df.drop('dep_delayed_15min', axis=1, inplace=True)\n",
    "    full_df = pd.concat([train_df, test_df])\n",
    "    \n",
    "    full_df.Month = full_df.Month.apply(lambda s: s.replace('c-', '')).astype('int')    \n",
    "    full_df.DayofMonth = full_df.DayofMonth.apply(lambda s: s.replace('c-', '')).astype('int')\n",
    "    full_df.DayOfWeek = full_df.DayOfWeek.apply(lambda s: s.replace('c-', '')).astype('int')        \n",
    "    full_df.DepTime = full_df.DepTime.astype('int') // 100        \n",
    "    full_df.Distance = full_df.Distance.astype('int')  \n",
    "    full_df.DepTime[full_df.DepTime == 25] = 1    \n",
    "    full_df.DepTime[full_df.DepTime == 24] = 0               \n",
    "    cat_features = ['Month', \n",
    "                    'DayofMonth', \n",
    "                    'DayOfWeek', \n",
    "                    'DepTime', \n",
    "                    'UniqueCarrier',\n",
    "                    'Origin', \n",
    "                    'Dest'\n",
    "                   ]\n",
    "    return full_df, y, cat_features  \n",
    "    "
   ]
  },
  {
   "cell_type": "code",
   "execution_count": 4,
   "metadata": {},
   "outputs": [
    {
     "name": "stdout",
     "output_type": "stream",
     "text": [
      "Wall time: 884 ms\n"
     ]
    }
   ],
   "source": [
    "%%time\n",
    "full_df, y, cat_features = read_prepare_data()\n",
    "full_df.reset_index(drop=True, inplace=True)\n",
    "train, test = full_df[:TRAIN_LEN], full_df[TRAIN_LEN:]\n"
   ]
  },
  {
   "cell_type": "code",
   "execution_count": 5,
   "metadata": {
    "scrolled": true
   },
   "outputs": [
    {
     "name": "stdout",
     "output_type": "stream",
     "text": [
      "Fitting 5 folds for each of 1 candidates, totalling 5 fits\n"
     ]
    },
    {
     "name": "stderr",
     "output_type": "stream",
     "text": [
      "[Parallel(n_jobs=-1)]: Using backend LokyBackend with 4 concurrent workers.\n",
      "[Parallel(n_jobs=-1)]: Done   5 out of   5 | elapsed:  3.6min finished\n"
     ]
    },
    {
     "name": "stdout",
     "output_type": "stream",
     "text": [
      "Wall time: 4min 25s\n"
     ]
    }
   ],
   "source": [
    "%%time\n",
    "cat_model = CatBoostClassifier(loss_function='Logloss',\n",
    "                               verbose=False,\n",
    "                               cat_features=cat_features, \n",
    "                               random_seed=SEED,\n",
    "                               thread_count=4)\n",
    "params = {'iterations': [250],\n",
    "          'depth': [6]          \n",
    "         }\n",
    "clf = GridSearchCV(cat_model, param_grid=params, \n",
    "                         cv=skf, scoring='roc_auc', n_jobs=-1, verbose=1)\n",
    "clf.fit(train, y)\n"
   ]
  },
  {
   "cell_type": "code",
   "execution_count": null,
   "metadata": {},
   "outputs": [],
   "source": [
    "%%time\n",
    "clf.best_estimator_.fit(train, y)\n",
    "predictions = clf.best_estimator_.predict_proba(test)[:, 1]\n"
   ]
  },
  {
   "cell_type": "code",
   "execution_count": null,
   "metadata": {},
   "outputs": [],
   "source": []
  }
 ],
 "metadata": {
  "kernelspec": {
   "display_name": "Python 3",
   "language": "python",
   "name": "python3"
  },
  "language_info": {
   "codemirror_mode": {
    "name": "ipython",
    "version": 3
   },
   "file_extension": ".py",
   "mimetype": "text/x-python",
   "name": "python",
   "nbconvert_exporter": "python",
   "pygments_lexer": "ipython3",
   "version": "3.7.1"
  }
 },
 "nbformat": 4,
 "nbformat_minor": 2
}
