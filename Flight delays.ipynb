{
 "cells": [
  {
   "cell_type": "code",
   "execution_count": null,
   "metadata": {},
   "outputs": [],
   "source": [
    "import numpy as np\n",
    "import pandas as pd\n",
    "import os\n",
    "from sklearn.model_selection import GridSearchCV, StratifiedKFold\n",
    "from catboost import CatBoostClassifier\n",
    "import warnings\n",
    "warnings.filterwarnings(\"ignore\")\n",
    "\n",
    "os.chdir('./') \n",
    "SEED = 17\n",
    "TRAIN_LEN = 10**5\n",
    "skf = StratifiedKFold(n_splits=5, shuffle=True, random_state=SEED)"
   ]
  },
  {
   "cell_type": "code",
   "execution_count": null,
   "metadata": {},
   "outputs": [],
   "source": [
    "#clean data and simple FE\n",
    "def read_prepare_data():\n",
    "    train_df = pd.read_csv('flight_delays_train.csv')\n",
    "    test_df = pd.read_csv('flight_delays_test.csv')\n",
    "    y = train_df.dep_delayed_15min.map({'Y': 1, 'N': 0}).values\n",
    "    train_df.drop('dep_delayed_15min', axis=1, inplace=True)\n",
    "    full_df = pd.concat([train_df, test_df])\n",
    "    \n",
    "    full_df.Month = full_df.Month.apply(lambda s: s.replace('c-', '')).astype('int')    \n",
    "    full_df.DayofMonth = full_df.DayofMonth.apply(lambda s: s.replace('c-', '')).astype('int')\n",
    "    full_df.DayOfWeek = full_df.DayOfWeek.apply(lambda s: s.replace('c-', '')).astype('int')        \n",
    "    full_df.DepTime = full_df.DepTime.astype('int') // 100        \n",
    "    full_df.Distance = full_df.Distance.astype('int')  \n",
    "    full_df.DepTime[full_df.DepTime == 25] = 1    \n",
    "    full_df.DepTime[full_df.DepTime == 24] = 0               \n",
    "    cat_features = ['Month', \n",
    "                    'DayofMonth', \n",
    "                    'DayOfWeek', \n",
    "                    'DepTime', \n",
    "                    'UniqueCarrier',\n",
    "                    'Origin', \n",
    "                    'Dest'\n",
    "                   ]\n",
    "    return full_df, y, cat_features  \n",
    "    "
   ]
  },
  {
   "cell_type": "code",
   "execution_count": null,
   "metadata": {},
   "outputs": [],
   "source": [
    "full_df, y, cat_features = read_prepare_data()\n",
    "full_df.reset_index(drop=True, inplace=True)\n",
    "train, test = full_df[:TRAIN_LEN], full_df[TRAIN_LEN:]\n",
    "cat_model = CatBoostClassifier(loss_function='Logloss',\n",
    "                               verbose=False,\n",
    "                               cat_features=cat_features, \n",
    "                               random_seed=SEED,\n",
    "                               thread_count=4)\n",
    "params = {'iterations': [250, 260, 270, 280, 290, 300],\n",
    "          'depth': [6, 7, 8, 9, 10]          \n",
    "         }\n",
    "clf = GridSearchCV(cat_model, param_grid=params, \n",
    "                         cv=skf, scoring='roc_auc', n_jobs=-1, verbose=1)\n",
    "clf.fit(train, y)\n",
    "clf.best_estimator_.fit(train, y)\n",
    "predictions = clf.best_estimator_.predict_proba(test)[:, 1]\n"
   ]
  },
  {
   "cell_type": "code",
   "execution_count": null,
   "metadata": {},
   "outputs": [],
   "source": []
  }
 ],
 "metadata": {
  "kernelspec": {
   "display_name": "Python 3",
   "language": "python",
   "name": "python3"
  },
  "language_info": {
   "codemirror_mode": {
    "name": "ipython",
    "version": 3
   },
   "file_extension": ".py",
   "mimetype": "text/x-python",
   "name": "python",
   "nbconvert_exporter": "python",
   "pygments_lexer": "ipython3",
   "version": "3.7.1"
  }
 },
 "nbformat": 4,
 "nbformat_minor": 2
}
