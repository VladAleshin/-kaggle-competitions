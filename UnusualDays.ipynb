{
 "cells": [
  {
   "cell_type": "markdown",
   "metadata": {},
   "source": [
    "Количество шагов за день зависит от ряда показателей.\n",
    "В указанной выборке значимым показателем может быть день недели (рабочий/выходной день), так как, например, большое число шагов для воскресенья может быть нормой, а для понедельника - чем-то необычным.\n",
    "Для определения признака обычный/необычный день можно воспользоваться формулой для поиска выбросов, основанной на медиане и квартилях распределения, так как медиана устойчива к выбросам в данных: \n",
    "\n",
    "$$( Q_{25} - 1.5 * (Q_{75} - Q_{25}),  Q_{75} + 1.5 * (Q_{75} - Q_{25})) $$\n",
    "\n",
    "Если значение не попадает в указанный интервал, то считаем его выбросом (необычным днем). \n",
    "\n"
   ]
  },
  {
   "cell_type": "code",
   "execution_count": 1,
   "metadata": {
    "colab": {},
    "colab_type": "code",
    "id": "sv3dnU8bGKgU"
   },
   "outputs": [],
   "source": [
    "import pandas as pd\n",
    "import numpy as np\n",
    "import os\n",
    "import seaborn as sns\n",
    "from scipy import stats\n",
    "sns.set()\n",
    "\n",
    "%matplotlib inline\n",
    "import matplotlib.pyplot as plt\n",
    "plt.style.use('ggplot')\n",
    "\n",
    "pd.set_option('display.max_rows', 100)\n",
    "pd.set_option('display.max_columns', 100)\n",
    "pd.set_option('display.width', 1000)\n",
    "os.chdir('C://Welltory')\n",
    "import warnings\n",
    "warnings.simplefilter('ignore')"
   ]
  },
  {
   "cell_type": "code",
   "execution_count": 2,
   "metadata": {
    "colab": {
     "base_uri": "https://localhost:8080/",
     "height": 35
    },
    "colab_type": "code",
    "id": "qQPx1v1FGvp1",
    "outputId": "bc8e5343-92fb-4d86-8ffe-724d32b2cb48"
   },
   "outputs": [
    {
     "data": {
      "text/plain": [
       "(39671, 7)"
      ]
     },
     "execution_count": 2,
     "metadata": {},
     "output_type": "execute_result"
    }
   ],
   "source": [
    "# чтение данных из файла\n",
    "data = pd.read_csv('data.csv')\n",
    "data.shape"
   ]
  },
  {
   "cell_type": "code",
   "execution_count": 4,
   "metadata": {},
   "outputs": [
    {
     "data": {
      "text/html": [
       "<div>\n",
       "<style scoped>\n",
       "    .dataframe tbody tr th:only-of-type {\n",
       "        vertical-align: middle;\n",
       "    }\n",
       "\n",
       "    .dataframe tbody tr th {\n",
       "        vertical-align: top;\n",
       "    }\n",
       "\n",
       "    .dataframe thead th {\n",
       "        text-align: right;\n",
       "    }\n",
       "</style>\n",
       "<table border=\"1\" class=\"dataframe\">\n",
       "  <thead>\n",
       "    <tr style=\"text-align: right;\">\n",
       "      <th></th>\n",
       "      <th>Time End</th>\n",
       "      <th>Time End Local Tz</th>\n",
       "      <th>Time Offset</th>\n",
       "      <th>Time Start</th>\n",
       "      <th>Time Start Local Tz</th>\n",
       "      <th>User ID</th>\n",
       "      <th>Value</th>\n",
       "    </tr>\n",
       "  </thead>\n",
       "  <tbody>\n",
       "    <tr>\n",
       "      <th>0</th>\n",
       "      <td>2019-05-05T09:40:00+03:00</td>\n",
       "      <td>2019-05-05T12:40:00+03:00</td>\n",
       "      <td>10800</td>\n",
       "      <td>2019-05-05T09:39:59+03:00</td>\n",
       "      <td>2019-05-05T12:39:59+03:00</td>\n",
       "      <td>2166</td>\n",
       "      <td>1.0</td>\n",
       "    </tr>\n",
       "    <tr>\n",
       "      <th>1</th>\n",
       "      <td>2019-05-05T11:13:29+03:00</td>\n",
       "      <td>2019-05-05T14:13:29+03:00</td>\n",
       "      <td>10800</td>\n",
       "      <td>2019-05-05T11:12:51+03:00</td>\n",
       "      <td>2019-05-05T14:12:51+03:00</td>\n",
       "      <td>2166</td>\n",
       "      <td>34.0</td>\n",
       "    </tr>\n",
       "    <tr>\n",
       "      <th>2</th>\n",
       "      <td>2019-05-05T12:07:42+03:00</td>\n",
       "      <td>2019-05-05T15:07:42+03:00</td>\n",
       "      <td>10800</td>\n",
       "      <td>2019-05-05T12:07:39+03:00</td>\n",
       "      <td>2019-05-05T15:07:39+03:00</td>\n",
       "      <td>2166</td>\n",
       "      <td>1.0</td>\n",
       "    </tr>\n",
       "    <tr>\n",
       "      <th>3</th>\n",
       "      <td>2019-05-05T13:04:05+03:00</td>\n",
       "      <td>2019-05-05T16:04:05+03:00</td>\n",
       "      <td>10800</td>\n",
       "      <td>2019-05-05T13:04:02+03:00</td>\n",
       "      <td>2019-05-05T16:04:02+03:00</td>\n",
       "      <td>2166</td>\n",
       "      <td>3.0</td>\n",
       "    </tr>\n",
       "    <tr>\n",
       "      <th>4</th>\n",
       "      <td>2019-05-05T13:18:18+03:00</td>\n",
       "      <td>2019-05-05T16:18:18+03:00</td>\n",
       "      <td>10800</td>\n",
       "      <td>2019-05-05T13:18:13+03:00</td>\n",
       "      <td>2019-05-05T16:18:13+03:00</td>\n",
       "      <td>2166</td>\n",
       "      <td>6.0</td>\n",
       "    </tr>\n",
       "    <tr>\n",
       "      <th>5</th>\n",
       "      <td>2019-05-05T14:59:59+03:00</td>\n",
       "      <td>2019-05-05T17:59:59+03:00</td>\n",
       "      <td>10800</td>\n",
       "      <td>2019-05-05T14:58:09+03:00</td>\n",
       "      <td>2019-05-05T17:58:09+03:00</td>\n",
       "      <td>2166</td>\n",
       "      <td>77.0</td>\n",
       "    </tr>\n",
       "    <tr>\n",
       "      <th>6</th>\n",
       "      <td>2019-05-05T17:12:35+03:00</td>\n",
       "      <td>2019-05-05T20:12:35+03:00</td>\n",
       "      <td>10800</td>\n",
       "      <td>2019-05-05T17:11:36+03:00</td>\n",
       "      <td>2019-05-05T20:11:36+03:00</td>\n",
       "      <td>2166</td>\n",
       "      <td>61.0</td>\n",
       "    </tr>\n",
       "    <tr>\n",
       "      <th>7</th>\n",
       "      <td>2019-05-05T17:21:00+03:00</td>\n",
       "      <td>2019-05-05T20:21:00+03:00</td>\n",
       "      <td>10800</td>\n",
       "      <td>2019-05-05T17:20:06+03:00</td>\n",
       "      <td>2019-05-05T20:20:06+03:00</td>\n",
       "      <td>2166</td>\n",
       "      <td>69.0</td>\n",
       "    </tr>\n",
       "    <tr>\n",
       "      <th>8</th>\n",
       "      <td>2019-05-05T17:35:48+03:00</td>\n",
       "      <td>2019-05-05T20:35:48+03:00</td>\n",
       "      <td>10800</td>\n",
       "      <td>2019-05-05T17:35:36+03:00</td>\n",
       "      <td>2019-05-05T20:35:36+03:00</td>\n",
       "      <td>2166</td>\n",
       "      <td>17.0</td>\n",
       "    </tr>\n",
       "    <tr>\n",
       "      <th>9</th>\n",
       "      <td>2019-05-05T18:03:48+03:00</td>\n",
       "      <td>2019-05-05T21:03:48+03:00</td>\n",
       "      <td>10800</td>\n",
       "      <td>2019-05-05T18:03:41+03:00</td>\n",
       "      <td>2019-05-05T21:03:41+03:00</td>\n",
       "      <td>2166</td>\n",
       "      <td>9.0</td>\n",
       "    </tr>\n",
       "  </tbody>\n",
       "</table>\n",
       "</div>"
      ],
      "text/plain": [
       "                    Time End          Time End Local Tz  Time Offset                 Time Start        Time Start Local Tz  User ID  Value\n",
       "0  2019-05-05T09:40:00+03:00  2019-05-05T12:40:00+03:00        10800  2019-05-05T09:39:59+03:00  2019-05-05T12:39:59+03:00     2166    1.0\n",
       "1  2019-05-05T11:13:29+03:00  2019-05-05T14:13:29+03:00        10800  2019-05-05T11:12:51+03:00  2019-05-05T14:12:51+03:00     2166   34.0\n",
       "2  2019-05-05T12:07:42+03:00  2019-05-05T15:07:42+03:00        10800  2019-05-05T12:07:39+03:00  2019-05-05T15:07:39+03:00     2166    1.0\n",
       "3  2019-05-05T13:04:05+03:00  2019-05-05T16:04:05+03:00        10800  2019-05-05T13:04:02+03:00  2019-05-05T16:04:02+03:00     2166    3.0\n",
       "4  2019-05-05T13:18:18+03:00  2019-05-05T16:18:18+03:00        10800  2019-05-05T13:18:13+03:00  2019-05-05T16:18:13+03:00     2166    6.0\n",
       "5  2019-05-05T14:59:59+03:00  2019-05-05T17:59:59+03:00        10800  2019-05-05T14:58:09+03:00  2019-05-05T17:58:09+03:00     2166   77.0\n",
       "6  2019-05-05T17:12:35+03:00  2019-05-05T20:12:35+03:00        10800  2019-05-05T17:11:36+03:00  2019-05-05T20:11:36+03:00     2166   61.0\n",
       "7  2019-05-05T17:21:00+03:00  2019-05-05T20:21:00+03:00        10800  2019-05-05T17:20:06+03:00  2019-05-05T20:20:06+03:00     2166   69.0\n",
       "8  2019-05-05T17:35:48+03:00  2019-05-05T20:35:48+03:00        10800  2019-05-05T17:35:36+03:00  2019-05-05T20:35:36+03:00     2166   17.0\n",
       "9  2019-05-05T18:03:48+03:00  2019-05-05T21:03:48+03:00        10800  2019-05-05T18:03:41+03:00  2019-05-05T21:03:41+03:00     2166    9.0"
      ]
     },
     "execution_count": 4,
     "metadata": {},
     "output_type": "execute_result"
    }
   ],
   "source": [
    "data.head(10)"
   ]
  },
  {
   "cell_type": "code",
   "execution_count": 3,
   "metadata": {},
   "outputs": [
    {
     "name": "stdout",
     "output_type": "stream",
     "text": [
      "<class 'pandas.core.frame.DataFrame'>\n",
      "RangeIndex: 39671 entries, 0 to 39670\n",
      "Data columns (total 7 columns):\n",
      "Time End               39671 non-null object\n",
      "Time End Local Tz      39671 non-null object\n",
      "Time Offset            39671 non-null int64\n",
      "Time Start             39671 non-null object\n",
      "Time Start Local Tz    39671 non-null object\n",
      "User ID                39671 non-null int64\n",
      "Value                  39671 non-null float64\n",
      "dtypes: float64(1), int64(2), object(4)\n",
      "memory usage: 2.1+ MB\n"
     ]
    }
   ],
   "source": [
    "data.info()"
   ]
  },
  {
   "cell_type": "code",
   "execution_count": 4,
   "metadata": {},
   "outputs": [
    {
     "data": {
      "text/plain": [
       "Time End               0\n",
       "Time End Local Tz      0\n",
       "Time Offset            0\n",
       "Time Start             0\n",
       "Time Start Local Tz    0\n",
       "User ID                0\n",
       "Value                  0\n",
       "dtype: int64"
      ]
     },
     "execution_count": 4,
     "metadata": {},
     "output_type": "execute_result"
    }
   ],
   "source": [
    "# наличие пропусков в данных\n",
    "data.isna().sum()"
   ]
  },
  {
   "cell_type": "code",
   "execution_count": 5,
   "metadata": {},
   "outputs": [
    {
     "name": "stdout",
     "output_type": "stream",
     "text": [
      "             Time Start Local Tz    Value\n",
      "11538  2019-08-04T22:40:05+03:00  13508.0\n",
      "11435  2019-08-04T13:44:59+03:00  10994.0\n",
      "11535  2019-08-04T21:32:37+03:00   8532.0\n",
      "11425  2019-08-04T03:23:56+03:00   4165.0\n",
      "11433  2019-08-04T13:10:26+03:00   2769.0\n",
      "11426  2019-08-04T07:52:02+03:00   2754.0\n",
      "11432  2019-08-04T11:40:20+03:00   2651.0\n",
      "11437  2019-08-04T17:15:43+03:00   2045.0\n",
      "11430  2019-08-04T10:57:44+03:00   2027.0\n",
      "34707  2019-08-04T18:50:07+03:00   1685.0\n",
      "11428  2019-08-04T10:36:06+03:00   1360.0\n",
      "11440  2019-08-04T19:29:26+03:00   1112.0\n"
     ]
    }
   ],
   "source": [
    "print(data[['Time Start Local Tz', 'Value']].nlargest(12, 'Value'))"
   ]
  },
  {
   "cell_type": "markdown",
   "metadata": {},
   "source": [
    "###### Судя по данным, на 04.08.2019 приходится наибольшее число шагов"
   ]
  },
  {
   "cell_type": "code",
   "execution_count": 6,
   "metadata": {
    "colab": {},
    "colab_type": "code",
    "id": "WZvTQS9pYMuY"
   },
   "outputs": [],
   "source": [
    "# группируем данные и добавляем временные признаки\n",
    "data['Time Start Local Tz'] = pd.to_datetime(data['Time Start Local Tz']) + pd.Timedelta('03:00:00')\n",
    "data['Time Start Local Tz'] = data['Time Start Local Tz'].dt.normalize()\n",
    "data = data[['Time Start Local Tz', 'Value']]\n",
    "data = data.groupby(['Time Start Local Tz'])['Value']\\\n",
    "                     .agg(np.sum)\\\n",
    "                     .reset_index()\n",
    "data['weekday'] = data['Time Start Local Tz'].dt.weekday\n"
   ]
  },
  {
   "cell_type": "markdown",
   "metadata": {},
   "source": [
    "## Графики"
   ]
  },
  {
   "cell_type": "code",
   "execution_count": 7,
   "metadata": {
    "colab": {
     "base_uri": "https://localhost:8080/",
     "height": 303
    },
    "colab_type": "code",
    "id": "c2J1EFzKzJYX",
    "outputId": "f8deee41-c989-4817-9330-22b80c523158"
   },
   "outputs": [
    {
     "data": {
      "text/plain": [
       "<matplotlib.axes._subplots.AxesSubplot at 0x9f84898>"
      ]
     },
     "execution_count": 7,
     "metadata": {},
     "output_type": "execute_result"
    },
    {
     "data": {
      "image/png": "[encoded data removed]",
      "text/plain": [
       "<Figure size 720x288 with 1 Axes>"
      ]
     },
     "metadata": {
      "needs_background": "light"
     },
     "output_type": "display_data"
    }
   ],
   "source": [
    "plt.title('Target variable value by days')\n",
    "data.Value.plot(figsize=(10, 4))"
   ]
  },
  {
   "cell_type": "markdown",
   "metadata": {},
   "source": [
    "###### На графике видим пик, который приходится на август месяц (04.08). В целом виден тренд к понижению количества шагов за день (в августе)"
   ]
  },
  {
   "cell_type": "code",
   "execution_count": 8,
   "metadata": {
    "colab": {
     "base_uri": "https://localhost:8080/",
     "height": 429
    },
    "colab_type": "code",
    "id": "AVuL363Kvjrb",
    "outputId": "6a94c3a9-cdc3-48e3-9da1-2df0a58028af"
   },
   "outputs": [
    {
     "name": "stdout",
     "output_type": "stream",
     "text": [
      "6.633960687642965e-14\n"
     ]
    },
    {
     "data": {
      "text/plain": [
       "Text(0.5, 1.0, 'Distribution of the target variable')"
      ]
     },
     "execution_count": 8,
     "metadata": {},
     "output_type": "execute_result"
    },
    {
     "data": {
      "image/png": "[encoded data removed]",
      "text/plain": [
       "<Figure size 432x288 with 1 Axes>"
      ]
     },
     "metadata": {
      "needs_background": "light"
     },
     "output_type": "display_data"
    }
   ],
   "source": [
    "#Критерий Шапиро-Уилка\n",
    "stat, p = stats.shapiro(data.Value)\n",
    "print(p)\n",
    "\n",
    "sns.distplot(data.Value)\n",
    "plt.title('Distribution of the target variable')"
   ]
  },
  {
   "cell_type": "markdown",
   "metadata": {},
   "source": [
    "###### Отклоняем H0 о том, что данные имеют нормальное распределение (p < 0.05)"
   ]
  },
  {
   "cell_type": "code",
   "execution_count": 9,
   "metadata": {},
   "outputs": [
    {
     "data": {
      "text/plain": [
       "Text(0.5, 1.0, 'Target variable by weekdays (boxplot)')"
      ]
     },
     "execution_count": 9,
     "metadata": {},
     "output_type": "execute_result"
    },
    {
     "data": {
      "image/png": "[encoded data removed]",
      "text/plain": [
       "<Figure size 1656x432 with 2 Axes>"
      ]
     },
     "metadata": {
      "needs_background": "light"
     },
     "output_type": "display_data"
    }
   ],
   "source": [
    "_, axes = plt.subplots(1, 2, figsize=(23, 6))\n",
    "sns.barplot(x='weekday', y='Value', data=data, ax=axes[0], estimator=np.median)\n",
    "sns.boxplot(x='weekday', y='Value', data=data, ax=axes[1])\n",
    "axes[0].set_title('Target variable by weekdays (barplot)')\n",
    "axes[1].set_title('Target variable by weekdays (boxplot)')\n"
   ]
  },
  {
   "cell_type": "markdown",
   "metadata": {},
   "source": [
    "###### Из графиков видно, что есть различия в медианных значениях по дням недели. Также различается и межквартильный размах."
   ]
  },
  {
   "cell_type": "markdown",
   "metadata": {},
   "source": [
    "\n",
    "\n",
    "## Функция для определения обычный/необычный день"
   ]
  },
  {
   "cell_type": "code",
   "execution_count": 8,
   "metadata": {
    "colab": {
     "base_uri": "https://localhost:8080/",
     "height": 72
    },
    "colab_type": "code",
    "id": "RontcqPartg0",
    "outputId": "0d759034-6e1d-401d-9985-3277d843e0fa"
   },
   "outputs": [
    {
     "data": {
      "text/plain": [
       "0    100\n",
       "1      4\n",
       "Name: is_unusual_day, dtype: int64"
      ]
     },
     "execution_count": 8,
     "metadata": {},
     "output_type": "execute_result"
    }
   ],
   "source": [
    "def is_unusual_day(data, UserID):        \n",
    "    ''' Return dataframe with 2 columns: date and feature - usual or unusual day'''\n",
    "    \n",
    "    data = data.loc[data['User ID'] == UserID]\n",
    "    assert len(data) != 0, 'No data for user'\n",
    "    \n",
    "    data['Time Start Local Tz'] = pd.to_datetime(data['Time Start Local Tz']) + pd.Timedelta('03:00:00')\n",
    "    data['Time Start Local Tz'] = data['Time Start Local Tz'].dt.normalize()\n",
    "    data = data[['Time Start Local Tz', 'Value']]\n",
    "    data = data.groupby(['Time Start Local Tz'])['Value']\\\n",
    "                        .agg(np.sum)\\\n",
    "                        .reset_index()    \n",
    "    data['weekday'] = data['Time Start Local Tz'].dt.weekday   \n",
    "    d = {}\n",
    "    for el in data.weekday.unique():\n",
    "        t = data.loc[data.weekday == el]\n",
    "        q1, q3 = np.quantile(t.Value, [0.25, 0.75])\n",
    "        d[el] = (q1 - 1.5 * (q3 - q1), q3 + 1.5 * (q3 - q1))\n",
    "\n",
    "    data['is_unusual_day'] = data.apply(lambda row: \n",
    "        ((row.Value < d[row.weekday][0]) | (row.Value > d[row.weekday][1]) ).astype(np.int8), \n",
    "        axis=1)\n",
    "    \n",
    "    return data[['Time Start Local Tz', 'is_unusual_day']]    \n",
    "    \n",
    "\n",
    "data = pd.read_csv('data.csv')\n",
    "result = is_unusual_day(data, 2166)\n",
    "\n",
    "result.is_unusual_day.value_counts() "
   ]
  },
  {
   "cell_type": "code",
   "execution_count": 9,
   "metadata": {},
   "outputs": [
    {
     "data": {
      "text/plain": [
       "<matplotlib.axes._subplots.AxesSubplot at 0xb9d0908>"
      ]
     },
     "execution_count": 9,
     "metadata": {},
     "output_type": "execute_result"
    },
    {
     "data": {
      "image/png": "[encoded data removed]",
      "text/plain": [
       "<Figure size 432x288 with 1 Axes>"
      ]
     },
     "metadata": {},
     "output_type": "display_data"
    }
   ],
   "source": [
    "# визуализация результата работы функции\n",
    "plt.title('Function result distribution')\n",
    "sns.countplot(result.is_unusual_day)"
   ]
  },
  {
   "cell_type": "markdown",
   "metadata": {},
   "source": [
    "Как видно из графика, если применить формулу для поиска выбросов (приведена в начале ноутбука), то количество обычных дней\n",
    "значительно превышает количество необычных, то есть модель поведения пользователя достаточно стандартна, если смотреть по дням недели."
   ]
  }
 ],
 "metadata": {
  "colab": {
   "collapsed_sections": [],
   "name": "welltory.ipynb",
   "provenance": [],
   "toc_visible": true
  },
  "kernelspec": {
   "display_name": "Python 3",
   "language": "python",
   "name": "python3"
  },
  "language_info": {
   "codemirror_mode": {
    "name": "ipython",
    "version": 3
   },
   "file_extension": ".py",
   "mimetype": "text/x-python",
   "name": "python",
   "nbconvert_exporter": "python",
   "pygments_lexer": "ipython3",
   "version": "3.7.1"
  }
 },
 "nbformat": 4,
 "nbformat_minor": 1
}
